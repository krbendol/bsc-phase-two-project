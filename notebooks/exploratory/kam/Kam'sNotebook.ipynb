{
 "cells": [
  {
   "cell_type": "code",
   "execution_count": null,
   "id": "679ec66d",
   "metadata": {},
   "outputs": [],
   "source": [
    "import numpy as np\n",
    "import pandas as pd\n",
    "from sklearn.preprocessing import MinMaxScaler\n",
    "from sklearn.model_selection import train_test_split\n",
    "from sklearn.metrics import mean_squared_error\n",
    "from sklearn.preprocessing import PolynomialFeatures\n",
    "from sklearn.linear_model import LinearRegression\n",
    "import matplotlib.pyplot as plt\n",
    "%matplotlib inline\n",
    "import seaborn as sns\n",
    "from sklearn.impute import SimpleImputer\n",
    "import statsmodels.api as sm\n",
    "from statsmodels.formula.api import ols\n",
    "from sklearn.preprocessing import StandardScaler\n",
    "from scipy import stats"
   ]
  },
  {
   "cell_type": "markdown",
   "id": "b8fb65a8",
   "metadata": {},
   "source": [
    "# Data Exploration"
   ]
  },
  {
   "cell_type": "markdown",
   "id": "cdcc912e",
   "metadata": {},
   "source": [
    "In this section, I will be taking steps to explore the data and see what I am working with. I look for null values, value counts of specific values, and column names."
   ]
  },
  {
   "cell_type": "code",
   "execution_count": null,
   "id": "d3344af3",
   "metadata": {},
   "outputs": [],
   "source": [
    "house= pd.read_csv('../../../data/kc_house_data.csv')\n",
    "#reading the data file into the learn-env"
   ]
  },
  {
   "cell_type": "code",
   "execution_count": null,
   "id": "b3a7a9a1",
   "metadata": {
    "scrolled": true
   },
   "outputs": [],
   "source": [
    "house.head()"
   ]
  },
  {
   "cell_type": "code",
   "execution_count": null,
   "id": "9f1d8cf4",
   "metadata": {},
   "outputs": [],
   "source": [
    "house.columns.to_list()\n",
    "#printing columns into a list for easier readability "
   ]
  },
  {
   "cell_type": "code",
   "execution_count": null,
   "id": "fdec1493",
   "metadata": {},
   "outputs": [],
   "source": [
    "total = house.isnull().sum().sort_values(ascending=False)\n",
    "percent = (house.isnull().sum()/house.isnull().count()).sort_values(ascending=False)\n",
    "missing_data = pd.concat([total, percent], axis=1, keys=['Total', 'Percent'])\n",
    "missing_data.head()"
   ]
  },
  {
   "cell_type": "code",
   "execution_count": null,
   "id": "f2fb5f86",
   "metadata": {
    "scrolled": true
   },
   "outputs": [],
   "source": [
    "house.dtypes\n",
    "#seeing what types of data we are working with"
   ]
  },
  {
   "cell_type": "code",
   "execution_count": null,
   "id": "b9e4d3d7",
   "metadata": {},
   "outputs": [],
   "source": [
    "house.describe"
   ]
  },
  {
   "cell_type": "markdown",
   "id": "5af5077e",
   "metadata": {},
   "source": [
    "## Data Cleaning"
   ]
  },
  {
   "cell_type": "markdown",
   "id": "043abc29",
   "metadata": {},
   "source": [
    "In this part of the notebook, I am focusing on getting the data cleaned and easier to manipulate so that we can get a baseline model and feature engineer to create more models."
   ]
  },
  {
   "cell_type": "code",
   "execution_count": null,
   "id": "b29be46e",
   "metadata": {},
   "outputs": [],
   "source": [
    "#Getting rid of the question marks in the sqft_basement so that I can make a new column turning those values into booleans\n",
    "house['sqft_basement'] = pd.to_numeric(house.sqft_basement, errors='coerce')"
   ]
  },
  {
   "cell_type": "code",
   "execution_count": null,
   "id": "4db9ed06",
   "metadata": {},
   "outputs": [],
   "source": [
    "#Any values in the column sqft_basement greater than zero are set to True in the new column and those with 0 are set to false.\n",
    "house['basement'] = house['sqft_basement'] > 0"
   ]
  },
  {
   "cell_type": "code",
   "execution_count": null,
   "id": "386d5703",
   "metadata": {},
   "outputs": [],
   "source": [
    "house"
   ]
  },
  {
   "cell_type": "code",
   "execution_count": null,
   "id": "ee0b346b",
   "metadata": {},
   "outputs": [],
   "source": [
    "house.sqft_basement = house.sqft_basement.replace('?','0')"
   ]
  },
  {
   "cell_type": "code",
   "execution_count": null,
   "id": "fd6adc77",
   "metadata": {
    "scrolled": false
   },
   "outputs": [],
   "source": [
    "house.waterfront = house.waterfront.astype(int)"
   ]
  },
  {
   "cell_type": "code",
   "execution_count": null,
   "id": "8359ca13",
   "metadata": {},
   "outputs": [],
   "source": [
    "house['sqft_basement']= house['sqft_basement'].astype(float)\n",
    "house['sqft_basement']= house['sqft_basement'].apply(lambda x: '1' if x>=1 else 0)"
   ]
  },
  {
   "cell_type": "markdown",
   "id": "146c31d0",
   "metadata": {},
   "source": [
    "This function grabs the zipcodes and returns the city associated with those zipcodes so that we can group them to make more sense of them."
   ]
  },
  {
   "cell_type": "code",
   "execution_count": null,
   "id": "c4cee540",
   "metadata": {},
   "outputs": [],
   "source": [
    "house['zipcode'].value_counts()"
   ]
  },
  {
   "cell_type": "code",
   "execution_count": null,
   "id": "4b7e3529",
   "metadata": {
    "scrolled": true
   },
   "outputs": [],
   "source": [
    "def getcity(zipcode):\n",
    "    if (zipcode == 98002) or (zipcode == 98092):\n",
    "        return 'Auburn'\n",
    "    elif(zipcode == 98224):\n",
    "        return 'Baring'\n",
    "    elif(zipcode == 98004) or (zipcode == 98005) or (zipcode == 98006) or (zipcode == 98007) or (zipcode == 98008):\n",
    "        return 'Bellevue'\n",
    "    elif(zipcode == 98010):\n",
    "        return 'Black Diamond'\n",
    "    elif(zipcode == 98011):\n",
    "        return 'Bothell'\n",
    "    elif(zipcode == 98178):\n",
    "        return 'Bryn Mawr-Skyway'\n",
    "    elif(zipcode == 98148) or (zipcode == 98166):\n",
    "        return 'Burien'\n",
    "    elif(zipcode == 98014):\n",
    "        return 'Carnation'\n",
    "    elif(zipcode == 98077):\n",
    "        return 'Cottage Lake'\n",
    "    elif(zipcode == 98042):\n",
    "        return 'Covington'\n",
    "    elif(zipcode == 98198):\n",
    "        return 'Des Moines'\n",
    "    elif(zipcode == 98019):\n",
    "        return 'Duvall'\n",
    "    elif(zipcode == 98031):\n",
    "        return 'East Hill-Meridian'\n",
    "    elif(zipcode == 98022):\n",
    "        return 'Enumclaw'\n",
    "    elif(zipcode == 98058):\n",
    "        return 'Fairwood'\n",
    "    elif(zipcode ==98024):\n",
    "        return 'Fall city'\n",
    "    elif(zipcode == 98003) or (zipcode == 98023):\n",
    "        return 'Federal Way'\n",
    "    elif(zipcode == 98027) or (zipcode == 98029):\n",
    "        return 'Issaquah'\n",
    "    elif(zipcode == 98028):\n",
    "        return 'Kenmore'\n",
    "    elif(zipcode == 98032) or (zipcode == 98030):\n",
    "        return 'Kent'\n",
    "    elif(zipcode == 98033) or (zipcode == 98034):\n",
    "        return 'Kirkland'\n",
    "    elif (zipcode == 98001):\n",
    "        return 'Lakeland North'\n",
    "    elif(zipcode == 98038):\n",
    "        return 'Maple Valley'\n",
    "    elif(zipcode == 98039):\n",
    "        return 'Medina'\n",
    "    elif(zipcode == 98040):\n",
    "        return 'Mercer Island'\n",
    "    elif(zipcode == 98045):\n",
    "        return 'North Bend'\n",
    "    elif(zipcode == 98047):\n",
    "        return 'Pacific'\n",
    "    elif(zipcode == 98050):\n",
    "        return 'Preston'\n",
    "    elif(zipcode == 98051):\n",
    "        return 'Ravensdale'\n",
    "    elif(zipcode == 98052):\n",
    "        return 'Redmond'\n",
    "    elif(zipcode == 98055) or (zipcode == 98056) or(zipcode == 98057) or (zipcode == 98059):\n",
    "        return 'Renton'\n",
    "    elif(zipcode == 98074) or (zipcode == 98075):\n",
    "        return 'Sammamish'\n",
    "    elif (zipcode == 98188):\n",
    "        return 'SeaTac'\n",
    "    elif (zipcode == 98155) or (zipcode == 98177):\n",
    "        return 'Shoreline'\n",
    "    elif (zipcode == 98288):\n",
    "        return 'Skykomish'\n",
    "    elif (zipcode == 98065):\n",
    "        return 'Snoqualmie'\n",
    "    elif (zipcode == 98168):\n",
    "        return 'Tukwila'\n",
    "    elif (zipcode == 98053):\n",
    "        return 'Union Hill-Novelty Hill'\n",
    "    elif (zipcode == 98195):\n",
    "        return 'Univ Of Washington'\n",
    "    elif (zipcode == 98070):\n",
    "        return 'Vashon'\n",
    "    elif (zipcode == 98146):\n",
    "        return 'White Center'\n",
    "    elif (zipcode == 98072):\n",
    "        return 'Woodinville'\n",
    "    else:\n",
    "        return 'Seattle'\n",
    "city = house.zipcode.apply(getcity)\n",
    "house['city'] = city\n",
    "house"
   ]
  },
  {
   "cell_type": "code",
   "execution_count": null,
   "id": "9f1c5974",
   "metadata": {},
   "outputs": [],
   "source": [
    "house['city'].value_counts()"
   ]
  },
  {
   "cell_type": "markdown",
   "id": "0f9041f1",
   "metadata": {},
   "source": [
    "In this step, we are turning "
   ]
  },
  {
   "cell_type": "code",
   "execution_count": null,
   "id": "369e1508",
   "metadata": {
    "scrolled": true
   },
   "outputs": [],
   "source": [
    "dummy = pd.get_dummies(house['city'])\n",
    "dummy"
   ]
  },
  {
   "cell_type": "code",
   "execution_count": null,
   "id": "ecf899b2",
   "metadata": {
    "scrolled": true
   },
   "outputs": [],
   "source": [
    "house = pd.concat([house, dummy], axis=1)\n",
    "house.head()"
   ]
  },
  {
   "cell_type": "code",
   "execution_count": null,
   "id": "c56422b9",
   "metadata": {
    "scrolled": true
   },
   "outputs": [],
   "source": [
    "house = house.merge(dummy, left_index=True, right_index=True)\n",
    "house"
   ]
  },
  {
   "cell_type": "code",
   "execution_count": null,
   "id": "42a3b8f0",
   "metadata": {},
   "outputs": [],
   "source": [
    "house = house.drop('zipcode', 1)\n",
    "house= house.drop('city', 1)\n",
    "house = house.drop('date', 1)"
   ]
  },
  {
   "cell_type": "code",
   "execution_count": null,
   "id": "ffebf416",
   "metadata": {
    "scrolled": true
   },
   "outputs": [],
   "source": [
    "house.corr().sort_values('price')\n",
    "#Since we are using price as our independent variable, I am looking to see what the highest correlated columns are"
   ]
  },
  {
   "cell_type": "code",
   "execution_count": null,
   "id": "eb5a9fbf",
   "metadata": {},
   "outputs": [],
   "source": [
    "house_features = [ 'sqft_living','grade','bedrooms', 'lat', 'waterfront','view','floors','long','yr_renovated', \n",
    "                  'condition', 'yr_built', 'sqft_lot', 'sqft_above','sqft_living15', 'sqft_lot15' ] "
   ]
  },
  {
   "cell_type": "markdown",
   "id": "010298c7",
   "metadata": {},
   "source": [
    "# Baseline Model"
   ]
  },
  {
   "cell_type": "code",
   "execution_count": null,
   "id": "c300a46c",
   "metadata": {},
   "outputs": [],
   "source": [
    "house_features = [ 'sqft_living','grade','bedrooms', 'lat', 'waterfront','view','floors','long','yr_renovated', \n",
    "                  'condition', 'yr_built', 'sqft_lot', 'sqft_above','sqft_living15', 'sqft_lot15' ]\n",
    "X= house[house_features]\n",
    "y= house.price"
   ]
  },
  {
   "cell_type": "code",
   "execution_count": null,
   "id": "d574d1db",
   "metadata": {},
   "outputs": [],
   "source": [
    "X.describe()\n",
    "#gives the specifics of each column that we are looking at"
   ]
  },
  {
   "cell_type": "code",
   "execution_count": null,
   "id": "2c8aca46",
   "metadata": {
    "scrolled": true
   },
   "outputs": [],
   "source": [
    "house['waterfront'].fillna(0.0, inplace = True)\n",
    "house['view'].fillna(0.0, inplace = True)\n",
    "house['yr_renovated'].fillna(0.0, inplace = True)\n",
    "house['sqft_basement'].fillna(house['sqft_basement'].mean, inplace= True)\n",
    "print(house.isnull().sum())\n",
    "#changing null values to the mean to see the difference in the correlation"
   ]
  },
  {
   "cell_type": "code",
   "execution_count": null,
   "id": "ab4542b4",
   "metadata": {},
   "outputs": [],
   "source": [
    "#split train test and linear regression\n",
    "reg= LinearRegression()\n",
    "X_train, X_test, y_train, y_test = train_test_split(X, y, random_state=42)\n",
    "reg.fit(X_train, y_train)\n",
    "reg.score(X_test, y_test)\n",
    "#gives us a 68% accuracy"
   ]
  },
  {
   "cell_type": "code",
   "execution_count": null,
   "id": "15a555a5",
   "metadata": {},
   "outputs": [],
   "source": [
    "#bin zipcodes into towns (reduced dimensions)\n",
    "#encode (one-hind code)\n",
    "#create booleans for basement"
   ]
  },
  {
   "cell_type": "code",
   "execution_count": null,
   "id": "62849ac0",
   "metadata": {
    "scrolled": true
   },
   "outputs": [],
   "source": [
    "model_1_train = X_train[['sqft_living','grade','bedrooms', 'lat', 'waterfront','view','floors','long','yr_renovated', \n",
    "                  'condition', 'yr_built', 'sqft_lot']]\n",
    "model_1_test= X_test[['sqft_living','grade','bedrooms', 'lat', 'waterfront','view','floors','long','yr_renovated', \n",
    "                  'condition', 'yr_built', 'sqft_lot']]\n",
    "model1= LinearRegression()\n",
    "model1.fit(model_1_train, y_train)\n",
    "\n",
    "train_preds = model1.predict(model_1_train)\n",
    "test_preds = model1.predict(model_1_test)\n",
    "\n",
    "train_error= mean_squared_error(y_train, train_preds)\n",
    "test_error= mean_squared_error(y_test, test_preds)\n",
    "\n",
    "print('Train error:', train_error)\n",
    "print('Test error:', test_error)"
   ]
  },
  {
   "cell_type": "markdown",
   "id": "67f80141",
   "metadata": {},
   "source": [
    "This is our baseline error which gives us a target to beat for our other models."
   ]
  },
  {
   "cell_type": "code",
   "execution_count": null,
   "id": "a2137b35",
   "metadata": {
    "scrolled": true
   },
   "outputs": [],
   "source": [
    "plt.scatter(house.price, house.sqft_living)\n",
    "plt.title('Square Feet')"
   ]
  },
  {
   "cell_type": "code",
   "execution_count": null,
   "id": "2aa81930",
   "metadata": {},
   "outputs": [],
   "source": [
    "plt.scatter(house.price, house.lat)\n",
    "plt.title('Location and Price')"
   ]
  },
  {
   "cell_type": "code",
   "execution_count": null,
   "id": "b73d7709",
   "metadata": {},
   "outputs": [],
   "source": [
    "#shows us where the most houses are located in the dataset\n",
    "plt.figure(figsize=(13,13))\n",
    "sns.jointplot(x=house.lat.values, y= house.long.values, size= 12)\n",
    "plt.xlabel= ('Longitude')\n",
    "plt.ylabel= ('Latitude')\n",
    "plt.show()"
   ]
  },
  {
   "cell_type": "code",
   "execution_count": null,
   "id": "11e187fd",
   "metadata": {},
   "outputs": [],
   "source": [
    "#seeing how many bedrooms most houses have since my mean code isn't working\n",
    "house['bedrooms'].value_counts().plot(kind='bar')\n",
    "plt.title = ('# of Bedrooms')\n",
    "plt.xlabel= ('Bedrooms')\n",
    "plt.ylabel= ('Count')"
   ]
  },
  {
   "cell_type": "markdown",
   "id": "b3ebf6ea",
   "metadata": {},
   "source": [
    "# Secondary Models"
   ]
  },
  {
   "cell_type": "markdown",
   "id": "92743718",
   "metadata": {},
   "source": [
    "In this model I am getting rid of outliers that are not within 2 standard deviations away from the mean to see how it effects the score of my model."
   ]
  },
  {
   "cell_type": "code",
   "execution_count": null,
   "id": "c2b9edbc",
   "metadata": {
    "scrolled": true
   },
   "outputs": [],
   "source": [
    "sns.distplot(house['price']);"
   ]
  },
  {
   "cell_type": "code",
   "execution_count": null,
   "id": "7b45f5de",
   "metadata": {
    "scrolled": true
   },
   "outputs": [],
   "source": [
    "house=house[(np.abs(stats.zscore(house['price'])) <2)]\n",
    "house= house[(np.abs(stats.zscore(house['price']))> -2)]\n",
    "house"
   ]
  },
  {
   "cell_type": "code",
   "execution_count": null,
   "id": "a0ef87ea",
   "metadata": {},
   "outputs": [],
   "source": [
    "sns.distplot(house['price']);"
   ]
  },
  {
   "cell_type": "code",
   "execution_count": null,
   "id": "c053de7f",
   "metadata": {},
   "outputs": [],
   "source": [
    "house_features = [ 'sqft_living','grade','bedrooms', 'lat', 'waterfront','view','floors','long','yr_renovated', \n",
    "                  'condition', 'yr_built', 'sqft_lot', 'sqft_above','sqft_living15', 'sqft_lot15' ]\n",
    "X= house[house_features]\n",
    "y= house.price"
   ]
  },
  {
   "cell_type": "code",
   "execution_count": null,
   "id": "ca5e35d3",
   "metadata": {
    "scrolled": true
   },
   "outputs": [],
   "source": [
    "reg= LinearRegression()\n",
    "X_train, X_test, y_train, y_test = train_test_split(X, y, random_state=42)\n",
    "reg.fit(X_train, y_train)\n",
    "reg.score(X_test, y_test)"
   ]
  },
  {
   "cell_type": "code",
   "execution_count": null,
   "id": "d1bf015a",
   "metadata": {},
   "outputs": [],
   "source": [
    "from sklearn.linear_model import Lasso\n",
    "from sklearn.model_selection import train_test_split\n",
    "from yellowbrick.regressor import PredictionError\n"
   ]
  },
  {
   "cell_type": "code",
   "execution_count": null,
   "id": "41e6b63d",
   "metadata": {},
   "outputs": [],
   "source": [
    "model = Lasso()\n",
    "visualizer = PredictionError(model)\n",
    "\n",
    "visualizer.fit(X_train, y_train)  # Fit the training data to the visualizer\n",
    "visualizer.score(X_test, y_test)  # Evaluate the model on the test data\n",
    "visualizer.show()               "
   ]
  },
  {
   "cell_type": "markdown",
   "id": "dbbd011c",
   "metadata": {},
   "source": [
    "Getting rid of outliers increased our R2 scored by about .02 which is a good start. The next step below will be calculating the train and test error."
   ]
  },
  {
   "cell_type": "code",
   "execution_count": null,
   "id": "fd55fdc5",
   "metadata": {},
   "outputs": [],
   "source": [
    "model_2_train = X_train[['sqft_living','grade','bedrooms', 'lat', 'waterfront','view','floors','long','yr_renovated', \n",
    "                  'condition', 'yr_built', 'sqft_lot']]\n",
    "model_2_test= X_test[['sqft_living','grade','bedrooms', 'lat', 'waterfront','view','floors','long','yr_renovated', \n",
    "                  'condition', 'yr_built', 'sqft_lot']]\n",
    "model2= LinearRegression()\n",
    "model2.fit(model_2_train, y_train)\n",
    "\n",
    "train_preds = model2.predict(model_2_train)\n",
    "test_preds = model2.predict(model_2_test)\n",
    "\n",
    "train_error= mean_squared_error(y_train, train_preds)\n",
    "test_error= mean_squared_error(y_test, test_preds)\n",
    "\n",
    "print('Train error:', train_error)\n",
    "print('Test error:', test_error)"
   ]
  },
  {
   "cell_type": "markdown",
   "id": "c456e5d2",
   "metadata": {},
   "source": [
    "The train and test erros are significantly lower and smaller in difference than the baseline model!"
   ]
  },
  {
   "cell_type": "markdown",
   "id": "bd4c05b8",
   "metadata": {},
   "source": [
    "## Model 3"
   ]
  },
  {
   "cell_type": "code",
   "execution_count": null,
   "id": "cc6c1257",
   "metadata": {},
   "outputs": [],
   "source": [
    "#based this model on the top 5 correlated columns in the df\n",
    "house_corr = ['sqft_living15', 'sqft_living', 'sqft_above', 'yr_built', 'view']\n",
    "X= house[house_corr]\n",
    "y= house.price"
   ]
  },
  {
   "cell_type": "code",
   "execution_count": null,
   "id": "4baf4bfb",
   "metadata": {},
   "outputs": [],
   "source": [
    "reg= LinearRegression()\n",
    "X_train, X_test, y_train, y_test = train_test_split(X, y, random_state=42)\n",
    "reg.fit(X_train, y_train)\n",
    "reg.score(X_test, y_test)\n",
    "#Score of .56 was much worse than the baseline model"
   ]
  },
  {
   "cell_type": "code",
   "execution_count": null,
   "id": "343efd9c",
   "metadata": {},
   "outputs": [],
   "source": [
    "model_3_train = X_train[['sqft_living15', 'sqft_living', 'sqft_above', 'yr_built', 'view']]\n",
    "model_3_test= X_test[['sqft_living15', 'sqft_living', 'sqft_above', 'yr_built', 'view']]\n",
    "model3= LinearRegression()\n",
    "model3.fit(model_3_train, y_train)\n",
    "\n",
    "train_preds = model3.predict(model_3_train)\n",
    "test_preds = model3.predict(model_3_test)\n",
    "\n",
    "train_error= mean_squared_error(y_train, train_preds)\n",
    "test_error= mean_squared_error(y_test, test_preds)\n",
    "\n",
    "print('Train error:', train_error)\n",
    "print('Test error:', test_error)"
   ]
  },
  {
   "cell_type": "markdown",
   "id": "f0b506a1",
   "metadata": {},
   "source": [
    "This model gave us an even lower R2 than the baseline but there is still a smaller error which is a good quality"
   ]
  },
  {
   "cell_type": "markdown",
   "id": "eaf6b99a",
   "metadata": {},
   "source": [
    "# Model 4"
   ]
  },
  {
   "cell_type": "markdown",
   "id": "91390f78",
   "metadata": {},
   "source": [
    "In this model, I will test what creating another column that tells us whether a house has a basement or not has an impact on our model's accuracy."
   ]
  },
  {
   "cell_type": "code",
   "execution_count": null,
   "id": "e4297ac7",
   "metadata": {},
   "outputs": [],
   "source": [
    "with_basement= ['sqft_living','grade','bedrooms', 'lat', 'waterfront','view','floors','long','yr_renovated', \n",
    "                  'condition', 'yr_built', 'basement']\n",
    "X= house[with_basement]\n",
    "y= house.price"
   ]
  },
  {
   "cell_type": "code",
   "execution_count": null,
   "id": "5548c7f9",
   "metadata": {},
   "outputs": [],
   "source": [
    "reg= LinearRegression()\n",
    "X_train, X_test, y_train, y_test = train_test_split(X, y, random_state=42)\n",
    "reg.fit(X_train, y_train)\n",
    "reg.score(X_test, y_test)"
   ]
  },
  {
   "cell_type": "code",
   "execution_count": null,
   "id": "2a3b33ec",
   "metadata": {},
   "outputs": [],
   "source": [
    "model_4_train = X_train[['sqft_living','grade','bedrooms', 'lat', 'waterfront','view','floors','long','yr_renovated', \n",
    "                  'condition', 'yr_built', 'basement']]\n",
    "model_4_test= X_test[['sqft_living','grade','bedrooms', 'lat', 'waterfront','view','floors','long','yr_renovated', \n",
    "                  'condition', 'yr_built', 'basement']]\n",
    "model4= LinearRegression()\n",
    "model4.fit(model_4_train, y_train)\n",
    "\n",
    "train_preds = model4.predict(model_4_train)\n",
    "test_preds = model4.predict(model_4_test)\n",
    "\n",
    "train_error= mean_squared_error(y_train, train_preds)\n",
    "test_error= mean_squared_error(y_test, test_preds)\n",
    "\n",
    "print('Train error:', train_error)\n",
    "print('Test error:', test_error)"
   ]
  },
  {
   "cell_type": "markdown",
   "id": "db555dca",
   "metadata": {},
   "source": [
    "This model has a tad higher R2 than the previous model, but it is still lower than model 2. The train and test errors stayed constant as well."
   ]
  },
  {
   "cell_type": "code",
   "execution_count": null,
   "id": "c741753c",
   "metadata": {},
   "outputs": [],
   "source": [
    "plt.scatter(X,Y,color='#003F72', label=\"Data points\")\n",
    "plt.plot(X, regression_line, label= \"Regression Line\")\n",
    "plt.legend()"
   ]
  },
  {
   "cell_type": "markdown",
   "id": "d75cb107",
   "metadata": {},
   "source": [
    "## Model 5"
   ]
  },
  {
   "cell_type": "code",
   "execution_count": null,
   "id": "5794251c",
   "metadata": {},
   "outputs": [],
   "source": [
    "house['log_price'] = np.log(house['price'])"
   ]
  },
  {
   "cell_type": "code",
   "execution_count": null,
   "id": "4999470b",
   "metadata": {},
   "outputs": [],
   "source": [
    "log_with_basement= ['sqft_living','grade','bedrooms', 'lat', 'waterfront','view','floors','long','yr_renovated', \n",
    "                  'condition', 'yr_built']\n",
    "X= house[log_with_basement]\n",
    "y= house['log_price']"
   ]
  },
  {
   "cell_type": "code",
   "execution_count": null,
   "id": "6e2a72ab",
   "metadata": {},
   "outputs": [],
   "source": [
    "reg= LinearRegression()\n",
    "X_train, X_test, y_train, y_test = train_test_split(X, y, random_state=42)\n",
    "reg.fit(X_train, y_train)\n",
    "reg.score(X_test, y_test)"
   ]
  },
  {
   "cell_type": "code",
   "execution_count": null,
   "id": "dab5ee92",
   "metadata": {},
   "outputs": [],
   "source": [
    "mlr_split = LinearRegression()\n",
    "\n",
    "#fit\n",
    "mlr_split.fit(X_train, y_train)\n",
    "\n",
    "# calculate predictions on training and test sets\n",
    "y_hat_train = mlr_split.predict(X_train)\n",
    "y_hat_test = mlr_split.predict(X_test)\n",
    "\n",
    "#compare MSE for the predicted training and test values \n",
    "train_mse = mean_squared_error(np.exp(y_train), np.log(y_hat_train))\n",
    "test_mse = mean_squared_error(np.exp(y_test), y_hat_test)\n",
    "print('Train Mean Squarred Error:', train_mse)\n",
    "print('Test Mean Squarred Error:', test_mse)\n",
    "\n",
    "print('Train score:', mlr_split.score(X_train, y_train))\n",
    "print('Test score:', mlr_split.score(X_test, y_test))"
   ]
  },
  {
   "cell_type": "markdown",
   "id": "cce30f00",
   "metadata": {},
   "source": [
    "## Cross Validation "
   ]
  },
  {
   "cell_type": "code",
   "execution_count": null,
   "id": "4192cd4e",
   "metadata": {},
   "outputs": [],
   "source": [
    "from sklearn.model_selection import RepeatedKFold\n",
    "from sklearn.linear_model import LogisticRegression\n",
    "from sklearn.model_selection import cross_val_score"
   ]
  },
  {
   "cell_type": "code",
   "execution_count": null,
   "id": "f76205a0",
   "metadata": {},
   "outputs": [],
   "source": [
    "X"
   ]
  },
  {
   "cell_type": "code",
   "execution_count": null,
   "id": "56eeb990",
   "metadata": {},
   "outputs": [],
   "source": [
    "from sklearn.model_selection import KFold \n",
    "kf = RepeatedKFold(n_splits=5, n_repeats=10, random_state=None )\n",
    "model = LogisticRegression()\n",
    "\n",
    "model.fit(X,y)\n",
    "\n",
    "scores = cross_val_score(model, X, y, scoring='accuracy', cv=5, n_jobs=-1)\n",
    "scores\n",
    "# for train_index, test_index in kf.split(X):\n",
    "#       print(\"Train:\", train_index, \"Validation:\",test_index)\n",
    "#       X_train, X_test = X[train_index], X[test_index] \n",
    "#       y_train, y_test = y[train_index], y[test_index]\n",
    "        "
   ]
  },
  {
   "cell_type": "code",
   "execution_count": null,
   "id": "959041a6",
   "metadata": {},
   "outputs": [],
   "source": [
    "model6 = LinearRegression()\n",
    "X = house.drop(['price', 'log_price'], axis = 1)\n",
    "y = house['log_price']\n",
    "\n",
    "# Create a train test split\n",
    "X_train, X_test, y_train, y_test = train_test_split(X, y, random_state=1000)\n",
    "model3.fit(X_train, y_train)\n",
    "\n",
    "model3.score(X_test, y_test)"
   ]
  },
  {
   "cell_type": "code",
   "execution_count": null,
   "id": "359da5ab",
   "metadata": {},
   "outputs": [],
   "source": []
  }
 ],
 "metadata": {
  "kernelspec": {
   "display_name": "learn-env",
   "language": "python",
   "name": "learn-env"
  },
  "language_info": {
   "codemirror_mode": {
    "name": "ipython",
    "version": 3
   },
   "file_extension": ".py",
   "mimetype": "text/x-python",
   "name": "python",
   "nbconvert_exporter": "python",
   "pygments_lexer": "ipython3",
   "version": "3.8.8"
  }
 },
 "nbformat": 4,
 "nbformat_minor": 5
}
